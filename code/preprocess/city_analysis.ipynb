{
 "cells": [
  {
   "cell_type": "code",
   "execution_count": 2,
   "id": "ffc30015",
   "metadata": {},
   "outputs": [
    {
     "data": {
      "text/plain": [
       "'/Users/peterfalterbaum/Documents/Nova/thesis local/implementation/public_implementation'"
      ]
     },
     "execution_count": 2,
     "metadata": {},
     "output_type": "execute_result"
    }
   ],
   "source": [
    "import sys\n",
    "import os\n",
    "\n",
    "# Adjust the path as needed to reach your project root from the notebook's location\n",
    "project_root = os.path.abspath(os.path.join(os.getcwd(), '..', '..'))\n",
    "if project_root not in sys.path:\n",
    "    sys.path.insert(0, project_root)\n",
    "\n",
    "project_root"
   ]
  },
  {
   "cell_type": "code",
   "execution_count": 3,
   "id": "783e48da",
   "metadata": {},
   "outputs": [],
   "source": [
    "from config import PROJECT_ROOT\n",
    "from pathlib import Path"
   ]
  },
  {
   "cell_type": "code",
   "execution_count": 4,
   "id": "3fafc07c",
   "metadata": {},
   "outputs": [],
   "source": [
    "import pandas as pd\n",
    "import numpy as np\n",
    "import matplotlib.pyplot as plt\n",
    "import geopandas as gpd\n",
    "from pathlib import Path\n",
    "import logging"
   ]
  },
  {
   "cell_type": "code",
   "execution_count": 5,
   "id": "ad8c979a",
   "metadata": {},
   "outputs": [],
   "source": [
    "# Configure logging\n",
    "logging.basicConfig(level=logging.INFO)\n",
    "logger = logging.getLogger(__name__)"
   ]
  },
  {
   "cell_type": "code",
   "execution_count": 6,
   "id": "cff85495",
   "metadata": {},
   "outputs": [],
   "source": [
    "# Load the trip data\n",
    "# Update this path to your CSV file\n",
    "TRIPS_CSV = str(PROJECT_ROOT) + \\\n",
    "    \"/data/processed/final__purpose_person_odt_no_same_od_no_outliers_no_rare_od.csv\"\n",
    "# TRIPS_CSV = str(PROJECT_ROOT) + \"/data/processed/odt_no_same_od_no_rare_od.csv\"\n",
    "df_trips = pd.read_csv(TRIPS_CSV)"
   ]
  },
  {
   "cell_type": "code",
   "execution_count": 7,
   "id": "02012fad",
   "metadata": {},
   "outputs": [],
   "source": [
    "# Load the GeoJSON file with postal codes\n",
    "GEOJSON_PATH = \"../../data/raw/location/working_zips.geojson\"\n",
    "gdf_netherlands = gpd.read_file(GEOJSON_PATH)"
   ]
  },
  {
   "cell_type": "code",
   "execution_count": 8,
   "id": "bbfc6d34",
   "metadata": {},
   "outputs": [],
   "source": [
    "# Ensure pc4_code is string type for matching\n",
    "gdf_netherlands['pc4_code'] = gdf_netherlands['pc4_code'].astype(\n",
    "    str).str.zfill(4)"
   ]
  },
  {
   "cell_type": "code",
   "execution_count": 9,
   "id": "061a64f1",
   "metadata": {},
   "outputs": [
    {
     "name": "stdout",
     "output_type": "stream",
     "text": [
      "Found 352 unique cities in the dataset\n"
     ]
    }
   ],
   "source": [
    "# Get unique city names\n",
    "CITIES = gdf_netherlands['gem_name'].unique()\n",
    "print(f\"Found {len(CITIES)} unique cities in the dataset\")"
   ]
  },
  {
   "cell_type": "code",
   "execution_count": 10,
   "id": "fd3ca75c",
   "metadata": {},
   "outputs": [],
   "source": [
    "# Ensure postal codes are strings and properly formatted\n",
    "df_trips['pc4_arrival'] = df_trips['pc4_arrival'].astype(str).str.zfill(4)\n",
    "df_trips['pc4_departure'] = df_trips['pc4_departure'].astype(str).str.zfill(4)"
   ]
  },
  {
   "cell_type": "code",
   "execution_count": 11,
   "id": "b1df6137",
   "metadata": {},
   "outputs": [],
   "source": [
    "# Convert timestamps to datetime\n",
    "df_trips['timestamp_departure'] = pd.to_datetime(\n",
    "    df_trips['timestamp_departure'])\n",
    "df_trips['timestamp_arrival'] = pd.to_datetime(df_trips['timestamp_arrival'])"
   ]
  },
  {
   "cell_type": "code",
   "execution_count": 12,
   "id": "2cdd1115",
   "metadata": {},
   "outputs": [
    {
     "name": "stdout",
     "output_type": "stream",
     "text": [
      "Loaded 59943 trips\n"
     ]
    }
   ],
   "source": [
    "print(f\"Loaded {len(df_trips)} trips\")"
   ]
  },
  {
   "cell_type": "code",
   "execution_count": 13,
   "id": "58f54d66",
   "metadata": {},
   "outputs": [
    {
     "name": "stdout",
     "output_type": "stream",
     "text": [
      "Found 4068 unique postal codes in the target cities\n"
     ]
    }
   ],
   "source": [
    "# 1) Get PC4 codes for the cities\n",
    "city_postcodes = (\n",
    "    gdf_netherlands\n",
    "    .loc[gdf_netherlands['gem_name'].isin(CITIES), 'pc4_code']\n",
    "    .astype(str)\n",
    "    .unique()\n",
    ")\n",
    "print(f\"Found {len(city_postcodes)} unique postal codes in the target cities\")"
   ]
  },
  {
   "cell_type": "code",
   "execution_count": 14,
   "id": "3d687b38",
   "metadata": {},
   "outputs": [],
   "source": [
    "# 2) Filter trips that start OR end in those PC4s\n",
    "trips_for_cities = df_trips[\n",
    "    df_trips['pc4_departure'].isin(city_postcodes) |\n",
    "    df_trips['pc4_arrival'].isin(city_postcodes)\n",
    "].copy()"
   ]
  },
  {
   "cell_type": "code",
   "execution_count": 15,
   "id": "925c3166",
   "metadata": {},
   "outputs": [
    {
     "name": "stdout",
     "output_type": "stream",
     "text": [
      "Found 59943 trips involving the target cities\n"
     ]
    }
   ],
   "source": [
    "print(f\"Found {len(trips_for_cities)} trips involving the target cities\")"
   ]
  },
  {
   "cell_type": "code",
   "execution_count": 16,
   "id": "fc8c09d2",
   "metadata": {},
   "outputs": [],
   "source": [
    "# 3) Merge in origin/dest district names\n",
    "trips_with_districts = (\n",
    "    trips_for_cities\n",
    "    .merge(\n",
    "        gdf_netherlands[['gem_name', 'pc4_code']],\n",
    "        left_on='pc4_departure',\n",
    "        right_on='pc4_code',\n",
    "        how='left'\n",
    "    )\n",
    "    .merge(\n",
    "        gdf_netherlands[['gem_name', 'pc4_code']],\n",
    "        left_on='pc4_arrival',\n",
    "        right_on='pc4_code',\n",
    "        how='left',\n",
    "        suffixes=('_origin', '_dest')\n",
    "    )\n",
    ")"
   ]
  },
  {
   "cell_type": "code",
   "execution_count": 17,
   "id": "756e56f5",
   "metadata": {},
   "outputs": [
    {
     "name": "stdout",
     "output_type": "stream",
     "text": [
      "Merged district information for 59943 trips\n"
     ]
    }
   ],
   "source": [
    "print(f\"Merged district information for {len(trips_with_districts)} trips\")"
   ]
  },
  {
   "cell_type": "code",
   "execution_count": 18,
   "id": "873e2c7a",
   "metadata": {},
   "outputs": [],
   "source": [
    "# 4) Initialize stats indexed by CITIES\n",
    "district_stats = pd.DataFrame(index=CITIES)"
   ]
  },
  {
   "cell_type": "code",
   "execution_count": 19,
   "id": "455a8694",
   "metadata": {},
   "outputs": [],
   "source": [
    "# Total departures & arrivals\n",
    "district_stats['total_departure_trips'] = (\n",
    "    trips_with_districts.groupby('gem_name_origin').size()\n",
    "    .reindex(CITIES, fill_value=0).astype(int)\n",
    ")\n",
    "district_stats['total_arrival_trips'] = (\n",
    "    trips_with_districts.groupby('gem_name_dest').size()\n",
    "    .reindex(CITIES, fill_value=0).astype(int)\n",
    ")"
   ]
  },
  {
   "cell_type": "code",
   "execution_count": 20,
   "id": "dadcbeab",
   "metadata": {},
   "outputs": [],
   "source": [
    "# Net flow\n",
    "district_stats['net_flow'] = (\n",
    "    district_stats['total_arrival_trips'] -\n",
    "    district_stats['total_departure_trips']\n",
    ")"
   ]
  },
  {
   "cell_type": "code",
   "execution_count": 21,
   "id": "ea2d58c2",
   "metadata": {},
   "outputs": [],
   "source": [
    "# Intra-district trips\n",
    "intra_mask = trips_with_districts['gem_name_origin'] == trips_with_districts['gem_name_dest']\n",
    "intra = trips_with_districts[intra_mask]\n",
    "district_stats['intra_district_trips'] = (\n",
    "    intra.groupby('gem_name_origin').size()\n",
    "    .reindex(CITIES, fill_value=0).astype(int)\n",
    ")"
   ]
  },
  {
   "cell_type": "code",
   "execution_count": 22,
   "id": "9bf88462",
   "metadata": {},
   "outputs": [],
   "source": [
    "# Same-PC trips\n",
    "same_pc_mask = intra_mask & (\n",
    "    trips_with_districts['pc4_departure'] ==\n",
    "    trips_with_districts['pc4_arrival']\n",
    ")\n",
    "same_pc = trips_with_districts[same_pc_mask]\n",
    "district_stats['same_postal_code_trips'] = (\n",
    "    same_pc.groupby('gem_name_origin').size()\n",
    "    .reindex(CITIES, fill_value=0).astype(int)\n",
    ")"
   ]
  },
  {
   "cell_type": "code",
   "execution_count": 23,
   "id": "1c5374e5",
   "metadata": {},
   "outputs": [],
   "source": [
    "# Different-PC trips\n",
    "district_stats['different_postal_code_trips'] = (\n",
    "    district_stats['intra_district_trips'] -\n",
    "    district_stats['same_postal_code_trips']\n",
    ")"
   ]
  },
  {
   "cell_type": "code",
   "execution_count": 24,
   "id": "bd309af7",
   "metadata": {},
   "outputs": [
    {
     "name": "stderr",
     "output_type": "stream",
     "text": [
      "/var/folders/bj/r88z9c613s17r0cbp2t30cmm0000gn/T/ipykernel_7731/313000223.py:4: FutureWarning: DataFrameGroupBy.apply operated on the grouping columns. This behavior is deprecated, and in a future version of pandas the grouping columns will be excluded from the operation. Either pass `include_groups=False` to exclude the groupings or explicitly select the grouping columns after groupby to silence this warning.\n",
      "  .apply(lambda df: pd.unique(\n"
     ]
    }
   ],
   "source": [
    "# Unique intra-PCs\n",
    "unique_intra = (\n",
    "    intra.groupby('gem_name_origin')\n",
    "         .apply(lambda df: pd.unique(\n",
    "             df[['pc4_departure', 'pc4_arrival']]\n",
    "             .values.ravel()\n",
    "         ).size)\n",
    ")\n",
    "district_stats['unique_intra_postal_codes'] = (\n",
    "    unique_intra.reindex(CITIES, fill_value=0).astype(int)\n",
    ")"
   ]
  },
  {
   "cell_type": "code",
   "execution_count": 25,
   "id": "b25f6670",
   "metadata": {},
   "outputs": [],
   "source": [
    "# Inter-district trips\n",
    "inter_district_counts = {}\n",
    "for city in CITIES:\n",
    "    # Trips where city is either origin or destination\n",
    "    city_trips = trips_with_districts[(trips_with_districts['gem_name_origin'] == city) |\n",
    "                                      (trips_with_districts['gem_name_dest'] == city)]\n",
    "    # Exclude intra-district trips\n",
    "    inter_district_trips = city_trips[city_trips['gem_name_origin']\n",
    "                                      != city_trips['gem_name_dest']]\n",
    "    inter_district_counts[city] = len(inter_district_trips)\n",
    "district_stats['inter_district_trips'] = pd.Series(inter_district_counts)"
   ]
  },
  {
   "cell_type": "code",
   "execution_count": 26,
   "id": "e73ae615",
   "metadata": {},
   "outputs": [],
   "source": [
    "# Count outside postal codes for each city\n",
    "outside_pc_counts = {}\n",
    "for city in CITIES:\n",
    "    # Get trips where city is origin\n",
    "    city_origin_trips = trips_with_districts[trips_with_districts['gem_name_origin'] == city]\n",
    "    # Get trips where city is destination\n",
    "    city_dest_trips = trips_with_districts[trips_with_districts['gem_name_dest'] == city]\n",
    "\n",
    "    # Get unique postal codes from destinations of origin trips\n",
    "    dest_pcs = set(city_origin_trips['pc4_arrival'].unique())\n",
    "    # Get unique postal codes from origins of destination trips\n",
    "    origin_pcs = set(city_dest_trips['pc4_departure'].unique())\n",
    "\n",
    "    # Get intra-city postal codes\n",
    "    intra_city_pcs = set(\n",
    "        gdf_netherlands[gdf_netherlands['gem_name'] == city]['pc4_code'].unique())\n",
    "\n",
    "    # Combine using XOR (symmetric difference) and remove intra-city postal codes\n",
    "    outside_pc_counts[city] = len((dest_pcs ^ origin_pcs) - intra_city_pcs)\n",
    "\n",
    "district_stats['unique_outside_postal_codes'] = pd.Series(outside_pc_counts)"
   ]
  },
  {
   "cell_type": "code",
   "execution_count": 27,
   "id": "ddea6723",
   "metadata": {},
   "outputs": [],
   "source": [
    "# 5) Calculate percentages and means\n",
    "with np.errstate(divide='ignore', invalid='ignore'):\n",
    "    # Calculate mean total trips\n",
    "    district_stats['mean_total_trips'] = (\n",
    "        (district_stats['total_departure_trips'] +\n",
    "         district_stats['total_arrival_trips']) / 2\n",
    "    ).round(1)\n",
    "\n",
    "    # Calculate intra district percentage\n",
    "    district_stats['intra_district_pct'] = (\n",
    "        district_stats['intra_district_trips'] /\n",
    "        district_stats['mean_total_trips'] * 100\n",
    "    ).round(1).fillna(0)\n",
    "\n",
    "    district_stats['same_postal_code_pct'] = (\n",
    "        district_stats['same_postal_code_trips']\n",
    "        / district_stats['intra_district_trips'] * 100\n",
    "    ).round(1).fillna(0)"
   ]
  },
  {
   "cell_type": "code",
   "execution_count": 28,
   "id": "1caf9a72",
   "metadata": {},
   "outputs": [],
   "source": [
    "# 6) Calculate trips per PC and balanced score\n",
    "with np.errstate(divide='ignore', invalid='ignore'):\n",
    "    district_stats['trips_per_pc_intra'] = (\n",
    "        district_stats['intra_district_trips']\n",
    "        / district_stats['unique_intra_postal_codes']\n",
    "    ).round(1).fillna(0)\n",
    "\n",
    "    # Add balanced score calculation\n",
    "    district_stats['balanced_score'] = (\n",
    "        (1 - district_stats['same_postal_code_pct'] / 100) *\n",
    "        district_stats['trips_per_pc_intra']\n",
    "    ).round(1).fillna(0)"
   ]
  },
  {
   "cell_type": "code",
   "execution_count": 29,
   "id": "b0e8d0b0",
   "metadata": {},
   "outputs": [],
   "source": [
    "# 7) Final reorder & sort by balanced_score\n",
    "column_order = [\n",
    "    # 'total_departure_trips',\n",
    "    # 'total_arrival_trips',\n",
    "    # 'mean_total_trips',\n",
    "    # 'net_flow',\n",
    "    'intra_district_trips',\n",
    "    # 'intra_district_pct',\n",
    "    # 'same_postal_code_trips',\n",
    "    # 'same_postal_code_pct',\n",
    "    # 'different_postal_code_trips',\n",
    "    'inter_district_trips',\n",
    "    'unique_intra_postal_codes',\n",
    "    'unique_outside_postal_codes',\n",
    "    'trips_per_pc_intra',\n",
    "    # 'balanced_score'\n",
    "]"
   ]
  },
  {
   "cell_type": "code",
   "execution_count": 30,
   "id": "443c7952",
   "metadata": {},
   "outputs": [],
   "source": [
    "district_stats = (\n",
    "    district_stats[column_order]\n",
    "    .sort_values('trips_per_pc_intra', ascending=False)\n",
    ")"
   ]
  },
  {
   "cell_type": "code",
   "execution_count": 31,
   "id": "eda83fc2",
   "metadata": {},
   "outputs": [
    {
     "data": {
      "text/html": [
       "<div>\n",
       "<style scoped>\n",
       "    .dataframe tbody tr th:only-of-type {\n",
       "        vertical-align: middle;\n",
       "    }\n",
       "\n",
       "    .dataframe tbody tr th {\n",
       "        vertical-align: top;\n",
       "    }\n",
       "\n",
       "    .dataframe thead th {\n",
       "        text-align: right;\n",
       "    }\n",
       "</style>\n",
       "<table border=\"1\" class=\"dataframe\">\n",
       "  <thead>\n",
       "    <tr style=\"text-align: right;\">\n",
       "      <th></th>\n",
       "      <th>intra_district_trips</th>\n",
       "      <th>inter_district_trips</th>\n",
       "      <th>unique_intra_postal_codes</th>\n",
       "      <th>unique_outside_postal_codes</th>\n",
       "      <th>trips_per_pc_intra</th>\n",
       "    </tr>\n",
       "  </thead>\n",
       "  <tbody>\n",
       "    <tr>\n",
       "      <th>Amersfoort</th>\n",
       "      <td>1056</td>\n",
       "      <td>655</td>\n",
       "      <td>17</td>\n",
       "      <td>27</td>\n",
       "      <td>62.1</td>\n",
       "    </tr>\n",
       "    <tr>\n",
       "      <th>Utrecht</th>\n",
       "      <td>2539</td>\n",
       "      <td>2614</td>\n",
       "      <td>45</td>\n",
       "      <td>137</td>\n",
       "      <td>56.4</td>\n",
       "    </tr>\n",
       "    <tr>\n",
       "      <th>Rotterdam</th>\n",
       "      <td>3397</td>\n",
       "      <td>2469</td>\n",
       "      <td>69</td>\n",
       "      <td>89</td>\n",
       "      <td>49.2</td>\n",
       "    </tr>\n",
       "    <tr>\n",
       "      <th>'s-Gravenhage</th>\n",
       "      <td>2690</td>\n",
       "      <td>2420</td>\n",
       "      <td>61</td>\n",
       "      <td>50</td>\n",
       "      <td>44.1</td>\n",
       "    </tr>\n",
       "    <tr>\n",
       "      <th>Amsterdam</th>\n",
       "      <td>2391</td>\n",
       "      <td>3378</td>\n",
       "      <td>71</td>\n",
       "      <td>112</td>\n",
       "      <td>33.7</td>\n",
       "    </tr>\n",
       "  </tbody>\n",
       "</table>\n",
       "</div>"
      ],
      "text/plain": [
       "               intra_district_trips  inter_district_trips  \\\n",
       "Amersfoort                     1056                   655   \n",
       "Utrecht                        2539                  2614   \n",
       "Rotterdam                      3397                  2469   \n",
       "'s-Gravenhage                  2690                  2420   \n",
       "Amsterdam                      2391                  3378   \n",
       "\n",
       "               unique_intra_postal_codes  unique_outside_postal_codes  \\\n",
       "Amersfoort                            17                           27   \n",
       "Utrecht                               45                          137   \n",
       "Rotterdam                             69                           89   \n",
       "'s-Gravenhage                         61                           50   \n",
       "Amsterdam                             71                          112   \n",
       "\n",
       "               trips_per_pc_intra  \n",
       "Amersfoort                   62.1  \n",
       "Utrecht                      56.4  \n",
       "Rotterdam                    49.2  \n",
       "'s-Gravenhage                44.1  \n",
       "Amsterdam                    33.7  "
      ]
     },
     "execution_count": 31,
     "metadata": {},
     "output_type": "execute_result"
    }
   ],
   "source": [
    "district_stats[district_stats[\"intra_district_trips\"].astype(\n",
    "    int) > 1000].head(15)"
   ]
  }
 ],
 "metadata": {
  "jupytext": {
   "cell_metadata_filter": "-all",
   "main_language": "python",
   "notebook_metadata_filter": "-all"
  },
  "kernelspec": {
   "display_name": "rocketRiding",
   "language": "python",
   "name": "python3"
  },
  "language_info": {
   "codemirror_mode": {
    "name": "ipython",
    "version": 3
   },
   "file_extension": ".py",
   "mimetype": "text/x-python",
   "name": "python",
   "nbconvert_exporter": "python",
   "pygments_lexer": "ipython3",
   "version": "3.11.5"
  }
 },
 "nbformat": 4,
 "nbformat_minor": 5
}
